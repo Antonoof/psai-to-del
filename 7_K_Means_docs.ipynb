{
  "nbformat": 4,
  "nbformat_minor": 0,
  "metadata": {
    "colab": {
      "provenance": []
    },
    "kernelspec": {
      "name": "python3",
      "display_name": "Python 3"
    },
    "language_info": {
      "name": "python"
    }
  },
  "cells": [
    {
      "cell_type": "code",
      "source": [
        "from gensim import corpora\n",
        "from gensim.models import LdaModel\n",
        "from gensim.parsing.preprocessing import preprocess_string\n",
        "\n",
        "# Пример текстовых данных\n",
        "documents = [\n",
        "    \"Natural language processing is a subfield of artificial intelligence.\",\n",
        "    \"Topic modeling is used to discover hidden topics in a collection of text documents.\",\n",
        "    \"K-Means is a popular clustering algorithm.\",\n",
        "    \"Latent Dirichlet Allocation (LDA) is a generative probabilistic model for topics.\"\n",
        "]\n",
        "\n",
        "# Предобработка текстовых данных\n",
        "processed_docs = [preprocess_string(doc) for doc in documents]\n",
        "\n",
        "# Создание словаря\n",
        "dictionary = corpora.Dictionary(processed_docs)\n",
        "\n",
        "# Создание корпуса\n",
        "corpus = [dictionary.doc2bow(doc) for doc in processed_docs]\n",
        "\n",
        "# Определение модели LDA\n",
        "lda_model = LdaModel(corpus, num_topics=2, id2word=dictionary, passes=10)\n",
        "\n",
        "# Вывод тем\n",
        "print(\"Темы, выделенные моделью LDA:\")\n",
        "for idx, topic in lda_model.print_topics(-1):\n",
        "    print(f\"Тема {idx + 1}: {topic}\")\n",
        "\n",
        "# Вывод тем и их вероятностей для каждого документа\n",
        "print(\"\\nТемы для каждого документа:\")\n",
        "for i, doc in enumerate(corpus):\n",
        "    print(f\"Документ {i + 1} Темы: {lda_model[doc]}\")"
      ],
      "metadata": {
        "colab": {
          "base_uri": "https://localhost:8080/"
        },
        "id": "nnf_f7aWxUnq",
        "outputId": "03f4f7c8-ad97-45b4-8cab-bad9b86b2567"
      },
      "execution_count": 4,
      "outputs": [
        {
          "output_type": "stream",
          "name": "stdout",
          "text": [
            "Темы, выделенные моделью LDA:\n",
            "Тема 1: 0.070*\"intellig\" + 0.070*\"natur\" + 0.070*\"subfield\" + 0.070*\"process\" + 0.070*\"languag\" + 0.070*\"artifici\" + 0.069*\"cluster\" + 0.069*\"algorithm\" + 0.069*\"popular\" + 0.069*\"mean\"\n",
            "Тема 2: 0.127*\"topic\" + 0.091*\"model\" + 0.054*\"discov\" + 0.054*\"text\" + 0.054*\"document\" + 0.054*\"collect\" + 0.054*\"hidden\" + 0.054*\"probabilist\" + 0.054*\"alloc\" + 0.054*\"dirichlet\"\n",
            "\n",
            "Темы для каждого документа:\n",
            "Документ 1 Темы: [(0, 0.9262333), (1, 0.0737667)]\n",
            "Документ 2 Темы: [(0, 0.05794397), (1, 0.942056)]\n",
            "Документ 3 Темы: [(0, 0.89665693), (1, 0.10334305)]\n",
            "Документ 4 Темы: [(0, 0.058256816), (1, 0.9417432)]\n"
          ]
        }
      ]
    },
    {
      "cell_type": "code",
      "source": [
        "from sklearn.feature_extraction.text import TfidfVectorizer\n",
        "from sklearn.cluster import KMeans\n",
        "\n",
        "# Пример текстовых данных\n",
        "documents = [\n",
        "    \"Natural language processing is a subfield of artificial intelligence.\",\n",
        "    \"Topic modeling is used to discover hidden topics in a collection of text documents.\",\n",
        "    \"K-Means is a popular clustering algorithm.\",\n",
        "    \"Latent Dirichlet Allocation (LDA) is a generative probabilistic model for topics.\"\n",
        "]\n",
        "\n",
        "# Преобразование текстов в TF-IDF векторы\n",
        "vectorizer = TfidfVectorizer()\n",
        "X = vectorizer.fit_transform(documents)\n",
        "\n",
        "# Определение модели K-Means\n",
        "kmeans_model = KMeans(n_clusters=2, random_state=42)\n",
        "kmeans_model.fit(X)\n",
        "\n",
        "# Вывод меток кластеров для каждого документа\n",
        "print(\"Кластеры для документов:\")\n",
        "for i, label in enumerate(kmeans_model.labels_):\n",
        "    print(f\"Документ {i + 1}: Кластер {label}\")"
      ],
      "metadata": {
        "colab": {
          "base_uri": "https://localhost:8080/"
        },
        "id": "iUiV-qqg2Qx3",
        "outputId": "cc574d73-f9c0-444b-bd76-b02afe1a59ed"
      },
      "execution_count": 5,
      "outputs": [
        {
          "output_type": "stream",
          "name": "stdout",
          "text": [
            "Кластеры для документов:\n",
            "Документ 1: Кластер 0\n",
            "Документ 2: Кластер 0\n",
            "Документ 3: Кластер 1\n",
            "Документ 4: Кластер 1\n"
          ]
        }
      ]
    },
    {
      "cell_type": "code",
      "source": [
        "# pip install -U pyLDAvis"
      ],
      "metadata": {
        "colab": {
          "base_uri": "https://localhost:8080/"
        },
        "id": "qjVOhjmY2chQ",
        "outputId": "f25eb89d-2208-4187-89d4-7fecdb5e5d17"
      },
      "execution_count": 12,
      "outputs": [
        {
          "output_type": "stream",
          "name": "stderr",
          "text": [
            "/usr/local/lib/python3.11/dist-packages/ipykernel/ipkernel.py:283: DeprecationWarning: `should_run_async` will not call `transform_cell` automatically in the future. Please pass the result to `transformed_cell` argument and any exception that happen during thetransform in `preprocessing_exc_tuple` in IPython 7.17 and above.\n",
            "  and should_run_async(code)\n"
          ]
        }
      ]
    },
    {
      "cell_type": "code",
      "source": [
        "import pyLDAvis\n",
        "import pyLDAvis.gensim_models\n",
        "\n",
        "# Включение локального режима\n",
        "pyLDAvis.enable_notebook(local=True)\n",
        "\n",
        "# Подготовка данных для визуализации\n",
        "vis = pyLDAvis.gensim_models.prepare(lda_model, corpus, dictionary)\n",
        "\n",
        "# Отображение визуализации\n",
        "pyLDAvis.display(vis)"
      ],
      "metadata": {
        "colab": {
          "base_uri": "https://localhost:8080/",
          "height": 916
        },
        "id": "P9PqTMJf2T8P",
        "outputId": "ef50087e-daf5-42af-c0c4-ec0fbaa85a01"
      },
      "execution_count": 11,
      "outputs": [
        {
          "output_type": "stream",
          "name": "stderr",
          "text": [
            "/usr/local/lib/python3.11/dist-packages/ipykernel/ipkernel.py:283: DeprecationWarning: `should_run_async` will not call `transform_cell` automatically in the future. Please pass the result to `transformed_cell` argument and any exception that happen during thetransform in `preprocessing_exc_tuple` in IPython 7.17 and above.\n",
            "  and should_run_async(code)\n"
          ]
        },
        {
          "output_type": "execute_result",
          "data": {
            "text/plain": [
              "<IPython.core.display.HTML object>"
            ],
            "text/html": [
              "\n",
              "<link rel=\"stylesheet\" type=\"text/css\" href=\"https://cdn.jsdelivr.net/gh/bmabey/pyLDAvis@3.4.0/pyLDAvis/js/ldavis.v1.0.0.css\">\n",
              "\n",
              "\n",
              "<div id=\"ldavis_el6121352960805589289133416886\" style=\"background-color:white;\"></div>\n",
              "<script type=\"text/javascript\">\n",
              "\n",
              "var ldavis_el6121352960805589289133416886_data = {\"mdsDat\": {\"x\": [0.07197921385294713, -0.07197921385294713], \"y\": [0.0, 0.0], \"topics\": [1, 2], \"cluster\": [1, 1], \"Freq\": [61.25532282585255, 38.744677174147455]}, \"tinfo\": {\"Term\": [\"intellig\", \"natur\", \"subfield\", \"process\", \"languag\", \"artifici\", \"cluster\", \"algorithm\", \"popular\", \"mean\", \"topic\", \"model\", \"discov\", \"text\", \"document\", \"collect\", \"hidden\", \"probabilist\", \"alloc\", \"dirichlet\", \"gener\", \"lda\", \"latent\", \"topic\", \"model\", \"discov\", \"text\", \"document\", \"collect\", \"hidden\", \"probabilist\", \"alloc\", \"dirichlet\", \"gener\", \"lda\", \"latent\", \"mean\", \"popular\", \"algorithm\", \"cluster\", \"artifici\", \"languag\", \"process\", \"subfield\", \"natur\", \"intellig\", \"intellig\", \"natur\", \"subfield\", \"process\", \"languag\", \"artifici\", \"cluster\", \"algorithm\", \"popular\", \"mean\", \"latent\", \"lda\", \"gener\", \"dirichlet\", \"alloc\", \"probabilist\", \"hidden\", \"collect\", \"document\", \"text\", \"discov\", \"model\", \"topic\"], \"Freq\": [0.0, 0.0, 0.0, 0.0, 0.0, 0.0, 0.0, 0.0, 0.0, 0.0, 2.0, 1.0, 1.0, 1.0, 1.0, 1.0, 1.0, 1.0, 1.0, 1.0, 1.0, 1.0, 1.0, 2.0247478084884514, 1.445035653373378, 0.8669365732786576, 0.8669274957268658, 0.8668178531405184, 0.8668141153250748, 0.8666565337724024, 0.8661346635399827, 0.865954358442629, 0.8659277784216963, 0.865878178204063, 0.8654381245985767, 0.8653623596728377, 0.2943533221707031, 0.29412955755251635, 0.2939073058596282, 0.293845068265971, 0.29210300894760965, 0.2920688939653858, 0.2919294971814988, 0.29183886998959097, 0.291798080336932, 0.29177728503037637, 0.700581049099049, 0.7005641618840726, 0.7005312130512964, 0.700458035119732, 0.7003454536865561, 0.7003179087625724, 0.6989105657935843, 0.6988602794200991, 0.6986807495613279, 0.6985000188339361, 0.23724673819110303, 0.2371855689457441, 0.23683013059763547, 0.23679003284385264, 0.23676858608083262, 0.23662286817915856, 0.23620134452977565, 0.23607407121957025, 0.2360709939937301, 0.23598248622368162, 0.23597524348481397, 0.2371327682535846, 0.23698735056906567], \"Total\": [0.0, 0.0, 0.0, 0.0, 0.0, 0.0, 0.0, 0.0, 0.0, 0.0, 2.0, 1.0, 1.0, 1.0, 1.0, 1.0, 1.0, 1.0, 1.0, 1.0, 1.0, 1.0, 1.0, 2.261735159057517, 1.6821684216269626, 1.1029118167634715, 1.1029099819505475, 1.1028888471342486, 1.1028881865446452, 1.102857878302178, 1.1027575317191411, 1.1027229445234616, 1.102717811265549, 1.1027083088016985, 1.1026236935443208, 1.1026090978639407, 0.9928533410046392, 0.9928103071138442, 0.9927675852797273, 0.9927556340595554, 0.992420917710182, 0.9924143476519419, 0.9923875323012308, 0.9923700830408874, 0.9923622422210046, 0.9923583341294253, 0.9923583341294253, 0.9923622422210046, 0.9923700830408874, 0.9923875323012308, 0.9924143476519419, 0.992420917710182, 0.9927556340595554, 0.9927675852797273, 0.9928103071138442, 0.9928533410046392, 1.1026090978639407, 1.1026236935443208, 1.1027083088016985, 1.102717811265549, 1.1027229445234616, 1.1027575317191411, 1.102857878302178, 1.1028881865446452, 1.1028888471342486, 1.1029099819505475, 1.1029118167634715, 1.6821684216269626, 2.261735159057517], \"Category\": [\"Default\", \"Default\", \"Default\", \"Default\", \"Default\", \"Default\", \"Default\", \"Default\", \"Default\", \"Default\", \"Default\", \"Default\", \"Default\", \"Default\", \"Default\", \"Default\", \"Default\", \"Default\", \"Default\", \"Default\", \"Default\", \"Default\", \"Default\", \"Topic1\", \"Topic1\", \"Topic1\", \"Topic1\", \"Topic1\", \"Topic1\", \"Topic1\", \"Topic1\", \"Topic1\", \"Topic1\", \"Topic1\", \"Topic1\", \"Topic1\", \"Topic1\", \"Topic1\", \"Topic1\", \"Topic1\", \"Topic1\", \"Topic1\", \"Topic1\", \"Topic1\", \"Topic1\", \"Topic1\", \"Topic2\", \"Topic2\", \"Topic2\", \"Topic2\", \"Topic2\", \"Topic2\", \"Topic2\", \"Topic2\", \"Topic2\", \"Topic2\", \"Topic2\", \"Topic2\", \"Topic2\", \"Topic2\", \"Topic2\", \"Topic2\", \"Topic2\", \"Topic2\", \"Topic2\", \"Topic2\", \"Topic2\", \"Topic2\", \"Topic2\"], \"logprob\": [23.0, 22.0, 21.0, 20.0, 19.0, 18.0, 17.0, 16.0, 15.0, 14.0, 13.0, 12.0, 11.0, 10.0, 9.0, 8.0, 7.0, 6.0, 5.0, 4.0, 3.0, 2.0, 1.0, -2.0625, -2.3998, -2.9108, -2.9108, -2.9109, -2.9109, -2.9111, -2.9117, -2.9119, -2.9119, -2.912, -2.9125, -2.9126, -3.991, -3.9917, -3.9925, -3.9927, -3.9986, -3.9987, -3.9992, -3.9995, -3.9997, -3.9997, -2.6658, -2.6658, -2.6658, -2.6659, -2.6661, -2.6661, -2.6682, -2.6682, -2.6685, -2.6687, -3.7486, -3.7488, -3.7503, -3.7505, -3.7506, -3.7512, -3.753, -3.7535, -3.7535, -3.7539, -3.7539, -3.7491, -3.7497], \"loglift\": [23.0, 22.0, 21.0, 20.0, 19.0, 18.0, 17.0, 16.0, 15.0, 14.0, 13.0, 12.0, 11.0, 10.0, 9.0, 8.0, 7.0, 6.0, 5.0, 4.0, 3.0, 2.0, 1.0, 0.3794, 0.3382, 0.2494, 0.2494, 0.2493, 0.2493, 0.2491, 0.2486, 0.2484, 0.2484, 0.2483, 0.2479, 0.2478, -0.7257, -0.7264, -0.7271, -0.7273, -0.7329, -0.733, -0.7335, -0.7338, -0.7339, -0.734, 0.6, 0.6, 0.5999, 0.5998, 0.5996, 0.5996, 0.5972, 0.5971, 0.5968, 0.5965, -0.5882, -0.5884, -0.59, -0.5902, -0.5903, -0.5909, -0.5928, -0.5934, -0.5934, -0.5938, -0.5938, -1.011, -1.3077]}, \"token.table\": {\"Topic\": [2, 1, 2, 2, 1, 1, 1, 1, 1, 1, 2, 2, 1, 1, 2, 1, 2, 2, 1, 2, 2, 1, 1], \"Freq\": [1.0072851036108665, 0.9068460985294424, 1.0076369634643587, 1.007297229743055, 0.9067102288338091, 0.9068503199856149, 0.90669080229327, 0.9067096857479379, 0.9068581346654488, 0.9067351466350994, 1.0077005105996097, 1.0076436343005377, 0.9069397322562248, 0.9069277268889055, 1.0071981013712754, 0.5944707956369899, 1.0076965421033164, 1.0072417589086646, 0.9068176559547523, 1.0076708618871066, 1.0076885801874766, 0.9066923106738536, 0.8842768314365399], \"Term\": [\"algorithm\", \"alloc\", \"artifici\", \"cluster\", \"collect\", \"dirichlet\", \"discov\", \"document\", \"gener\", \"hidden\", \"intellig\", \"languag\", \"latent\", \"lda\", \"mean\", \"model\", \"natur\", \"popular\", \"probabilist\", \"process\", \"subfield\", \"text\", \"topic\"]}, \"R\": 23, \"lambda.step\": 0.01, \"plot.opts\": {\"xlab\": \"PC1\", \"ylab\": \"PC2\"}, \"topic.order\": [2, 1]};\n",
              "\n",
              "function LDAvis_load_lib(url, callback){\n",
              "  var s = document.createElement('script');\n",
              "  s.src = url;\n",
              "  s.async = true;\n",
              "  s.onreadystatechange = s.onload = callback;\n",
              "  s.onerror = function(){console.warn(\"failed to load library \" + url);};\n",
              "  document.getElementsByTagName(\"head\")[0].appendChild(s);\n",
              "}\n",
              "\n",
              "if(typeof(LDAvis) !== \"undefined\"){\n",
              "   // already loaded: just create the visualization\n",
              "   !function(LDAvis){\n",
              "       new LDAvis(\"#\" + \"ldavis_el6121352960805589289133416886\", ldavis_el6121352960805589289133416886_data);\n",
              "   }(LDAvis);\n",
              "}else if(typeof define === \"function\" && define.amd){\n",
              "   // require.js is available: use it to load d3/LDAvis\n",
              "   require.config({paths: {d3: \"https://d3js.org/d3.v5\"}});\n",
              "   require([\"d3\"], function(d3){\n",
              "      window.d3 = d3;\n",
              "      LDAvis_load_lib(\"https://cdn.jsdelivr.net/gh/bmabey/pyLDAvis@3.4.0/pyLDAvis/js/ldavis.v3.0.0.js\", function(){\n",
              "        new LDAvis(\"#\" + \"ldavis_el6121352960805589289133416886\", ldavis_el6121352960805589289133416886_data);\n",
              "      });\n",
              "    });\n",
              "}else{\n",
              "    // require.js not available: dynamically load d3 & LDAvis\n",
              "    LDAvis_load_lib(\"https://d3js.org/d3.v5.js\", function(){\n",
              "         LDAvis_load_lib(\"https://cdn.jsdelivr.net/gh/bmabey/pyLDAvis@3.4.0/pyLDAvis/js/ldavis.v3.0.0.js\", function(){\n",
              "                 new LDAvis(\"#\" + \"ldavis_el6121352960805589289133416886\", ldavis_el6121352960805589289133416886_data);\n",
              "            })\n",
              "         });\n",
              "}\n",
              "</script>"
            ]
          },
          "metadata": {},
          "execution_count": 11
        }
      ]
    }
  ]
}